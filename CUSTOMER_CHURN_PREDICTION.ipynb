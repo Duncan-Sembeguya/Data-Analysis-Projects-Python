{
  "nbformat": 4,
  "nbformat_minor": 0,
  "metadata": {
    "colab": {
      "name": "CUSTOMER CHURN PREDICTION.ipynb",
      "provenance": [],
      "collapsed_sections": []
    },
    "kernelspec": {
      "name": "python3",
      "display_name": "Python 3"
    },
    "language_info": {
      "name": "python"
    }
  },
  "cells": [
    {
      "cell_type": "markdown",
      "source": [
        "# **TELCOM CUSTOMER CHURN**"
      ],
      "metadata": {
        "id": "xHE6Kt2iIA0j"
      }
    },
    {
      "cell_type": "markdown",
      "source": [
        "Customers in the telecom industry can choose from a variety of service providers and actively switch from one to the next. The telecommunications business has an annual churn rate of 15-25 percent in this highly competitive market.\n",
        "\n",
        "Individualized customer retention is tough because most firms have a large number of customers and can't afford to devote much time to each of them. The costs would be too great, outweighing the additional revenue. However, if a corporation could forecast which customers are likely to leave ahead of time, it could focus customer retention efforts only on these \"high risk\" clients. The ultimate goal is to expand its coverage area and retrieve more customers loyalty. The core to succeed in this market lies in the customer itself.\n",
        "\n",
        "Customer churn is a critical metric because it is much less expensive to retain existing customers than it is to acquire new customers.\n",
        "\n",
        "\n",
        "To reduce customer churn, telecom companies need to predict which customers are at high risk of churn.\n",
        "\n",
        "To detect early signs of potential churn, one must first develop a holistic view of the customers and their interactions across numerous channels, including store/branch visits, product purchase histories, customer service calls, Web-based transactions, and social media interactions, to mention a few.\n",
        "\n",
        "As a result, by addressing churn, these businesses may not only preserve their market position, but also grow and thrive. More customers they have in their network, the lower the cost of initiation and the larger the profit. As a result, the company's key focus for success is reducing client attrition and implementing effective retention strategy.\n",
        "\n",
        "\n",
        "**Objectives**\n",
        "\n",
        "In this notebook, we going to;\n",
        "- Some model prediction\n",
        "- Find the best model, tune it and find the best estimators\n",
        "- Find the most important features in regard to churning \n"
      ],
      "metadata": {
        "id": "NDlMvoWIIz_3"
      }
    },
    {
      "cell_type": "markdown",
      "source": [
        "##LOAD LIBRARIES AND DATA"
      ],
      "metadata": {
        "id": "FdTQxDZUK4am"
      }
    },
    {
      "cell_type": "code",
      "execution_count": 134,
      "metadata": {
        "id": "ii-eM32guBJ7"
      },
      "outputs": [],
      "source": [
        "#Importing libraries\n",
        "import numpy as np # linear algebra\n",
        "import pandas as pd # data processing, CSV file I/O (e.g. pd.read_csv)\n",
        "from math import * # module math\n",
        "import matplotlib.pyplot as plt # visualization\n",
        "import seaborn as sns # visualization\n",
        "import itertools\n",
        "import io\n",
        "import plotly.offline as py # visualization\n",
        "import plotly.graph_objs as go # visualization\n",
        "from plotly.subplots import make_subplots\n",
        "import plotly.figure_factory as ff # visualization\n",
        "import warnings\n",
        "warnings.filterwarnings(\"ignore\")"
      ]
    },
    {
      "cell_type": "markdown",
      "source": [
        "The data set includes information about;\n",
        "\n",
        "- Customers who left within the last month – the column is called Customer Status (Stayed or Churned)\n",
        "\n",
        "- Services that each customer has signed up for – phone, multiple lines, internet, online security, online backup, device protection, tech support, and streaming TV and movies\n",
        "\n",
        "- Customer account information - how long they’ve been a customer (tenure), contract, payment method, paperless billing, monthly charges, and total charges\n",
        "\n",
        "- Demographic info about customers – gender, age range, and if they have partners, referrals, multiple lines and dependents"
      ],
      "metadata": {
        "id": "8mOZ2Cs7k02Q"
      }
    },
    {
      "cell_type": "code",
      "source": [
        "df = pd.read_excel(\"/content/telecom_churn.xlsx\")\n",
        "df.head()"
      ],
      "metadata": {
        "colab": {
          "base_uri": "https://localhost:8080/",
          "height": 456
        },
        "id": "4uRvbj73uKX8",
        "outputId": "2b5bc674-4f7e-4505-c9b2-112f5cbb3fef"
      },
      "execution_count": 135,
      "outputs": [
        {
          "output_type": "execute_result",
          "data": {
            "text/plain": [
              "  Customer ID  Gender  Age Married  Number of Dependents  Number of Referrals  \\\n",
              "0  0002-ORFBO  Female   37     Yes                     0                    2   \n",
              "1  0003-MKNFE    Male   46      No                     0                    0   \n",
              "2  0004-TLHLJ    Male   50      No                     0                    0   \n",
              "3  0011-IGKFF    Male   78     Yes                     0                    1   \n",
              "4  0013-EXCHZ  Female   75     Yes                     0                    3   \n",
              "\n",
              "   Tenure in Months Phone Service  Avg Monthly Long Distance Charges  \\\n",
              "0                 9           Yes                              42.39   \n",
              "1                 9           Yes                              10.69   \n",
              "2                 4           Yes                              33.65   \n",
              "3                13           Yes                              27.82   \n",
              "4                 3           Yes                               7.38   \n",
              "\n",
              "  Multiple Lines  ... Streaming TV Streaming Movies Streaming Music  \\\n",
              "0             No  ...          Yes               No              No   \n",
              "1            Yes  ...           No              Yes             Yes   \n",
              "2             No  ...           No               No              No   \n",
              "3             No  ...          Yes              Yes              No   \n",
              "4             No  ...          Yes               No              No   \n",
              "\n",
              "  Unlimited Data        Contract Paperless Billing   Payment Method  \\\n",
              "0            Yes        One Year               Yes      Credit Card   \n",
              "1             No  Month-to-Month                No      Credit Card   \n",
              "2            Yes  Month-to-Month               Yes  Bank Withdrawal   \n",
              "3            Yes  Month-to-Month               Yes  Bank Withdrawal   \n",
              "4            Yes  Month-to-Month               Yes      Credit Card   \n",
              "\n",
              "  Monthly Charge Total Charges Customer Status  \n",
              "0           65.6        593.30          Stayed  \n",
              "1           -4.0        542.40          Stayed  \n",
              "2           73.9        280.85         Churned  \n",
              "3           98.0       1237.85         Churned  \n",
              "4           83.9        267.40         Churned  \n",
              "\n",
              "[5 rows x 25 columns]"
            ],
            "text/html": [
              "\n",
              "  <div id=\"df-77e9618d-7b8b-4779-b024-b8c39b6e1c69\">\n",
              "    <div class=\"colab-df-container\">\n",
              "      <div>\n",
              "<style scoped>\n",
              "    .dataframe tbody tr th:only-of-type {\n",
              "        vertical-align: middle;\n",
              "    }\n",
              "\n",
              "    .dataframe tbody tr th {\n",
              "        vertical-align: top;\n",
              "    }\n",
              "\n",
              "    .dataframe thead th {\n",
              "        text-align: right;\n",
              "    }\n",
              "</style>\n",
              "<table border=\"1\" class=\"dataframe\">\n",
              "  <thead>\n",
              "    <tr style=\"text-align: right;\">\n",
              "      <th></th>\n",
              "      <th>Customer ID</th>\n",
              "      <th>Gender</th>\n",
              "      <th>Age</th>\n",
              "      <th>Married</th>\n",
              "      <th>Number of Dependents</th>\n",
              "      <th>Number of Referrals</th>\n",
              "      <th>Tenure in Months</th>\n",
              "      <th>Phone Service</th>\n",
              "      <th>Avg Monthly Long Distance Charges</th>\n",
              "      <th>Multiple Lines</th>\n",
              "      <th>...</th>\n",
              "      <th>Streaming TV</th>\n",
              "      <th>Streaming Movies</th>\n",
              "      <th>Streaming Music</th>\n",
              "      <th>Unlimited Data</th>\n",
              "      <th>Contract</th>\n",
              "      <th>Paperless Billing</th>\n",
              "      <th>Payment Method</th>\n",
              "      <th>Monthly Charge</th>\n",
              "      <th>Total Charges</th>\n",
              "      <th>Customer Status</th>\n",
              "    </tr>\n",
              "  </thead>\n",
              "  <tbody>\n",
              "    <tr>\n",
              "      <th>0</th>\n",
              "      <td>0002-ORFBO</td>\n",
              "      <td>Female</td>\n",
              "      <td>37</td>\n",
              "      <td>Yes</td>\n",
              "      <td>0</td>\n",
              "      <td>2</td>\n",
              "      <td>9</td>\n",
              "      <td>Yes</td>\n",
              "      <td>42.39</td>\n",
              "      <td>No</td>\n",
              "      <td>...</td>\n",
              "      <td>Yes</td>\n",
              "      <td>No</td>\n",
              "      <td>No</td>\n",
              "      <td>Yes</td>\n",
              "      <td>One Year</td>\n",
              "      <td>Yes</td>\n",
              "      <td>Credit Card</td>\n",
              "      <td>65.6</td>\n",
              "      <td>593.30</td>\n",
              "      <td>Stayed</td>\n",
              "    </tr>\n",
              "    <tr>\n",
              "      <th>1</th>\n",
              "      <td>0003-MKNFE</td>\n",
              "      <td>Male</td>\n",
              "      <td>46</td>\n",
              "      <td>No</td>\n",
              "      <td>0</td>\n",
              "      <td>0</td>\n",
              "      <td>9</td>\n",
              "      <td>Yes</td>\n",
              "      <td>10.69</td>\n",
              "      <td>Yes</td>\n",
              "      <td>...</td>\n",
              "      <td>No</td>\n",
              "      <td>Yes</td>\n",
              "      <td>Yes</td>\n",
              "      <td>No</td>\n",
              "      <td>Month-to-Month</td>\n",
              "      <td>No</td>\n",
              "      <td>Credit Card</td>\n",
              "      <td>-4.0</td>\n",
              "      <td>542.40</td>\n",
              "      <td>Stayed</td>\n",
              "    </tr>\n",
              "    <tr>\n",
              "      <th>2</th>\n",
              "      <td>0004-TLHLJ</td>\n",
              "      <td>Male</td>\n",
              "      <td>50</td>\n",
              "      <td>No</td>\n",
              "      <td>0</td>\n",
              "      <td>0</td>\n",
              "      <td>4</td>\n",
              "      <td>Yes</td>\n",
              "      <td>33.65</td>\n",
              "      <td>No</td>\n",
              "      <td>...</td>\n",
              "      <td>No</td>\n",
              "      <td>No</td>\n",
              "      <td>No</td>\n",
              "      <td>Yes</td>\n",
              "      <td>Month-to-Month</td>\n",
              "      <td>Yes</td>\n",
              "      <td>Bank Withdrawal</td>\n",
              "      <td>73.9</td>\n",
              "      <td>280.85</td>\n",
              "      <td>Churned</td>\n",
              "    </tr>\n",
              "    <tr>\n",
              "      <th>3</th>\n",
              "      <td>0011-IGKFF</td>\n",
              "      <td>Male</td>\n",
              "      <td>78</td>\n",
              "      <td>Yes</td>\n",
              "      <td>0</td>\n",
              "      <td>1</td>\n",
              "      <td>13</td>\n",
              "      <td>Yes</td>\n",
              "      <td>27.82</td>\n",
              "      <td>No</td>\n",
              "      <td>...</td>\n",
              "      <td>Yes</td>\n",
              "      <td>Yes</td>\n",
              "      <td>No</td>\n",
              "      <td>Yes</td>\n",
              "      <td>Month-to-Month</td>\n",
              "      <td>Yes</td>\n",
              "      <td>Bank Withdrawal</td>\n",
              "      <td>98.0</td>\n",
              "      <td>1237.85</td>\n",
              "      <td>Churned</td>\n",
              "    </tr>\n",
              "    <tr>\n",
              "      <th>4</th>\n",
              "      <td>0013-EXCHZ</td>\n",
              "      <td>Female</td>\n",
              "      <td>75</td>\n",
              "      <td>Yes</td>\n",
              "      <td>0</td>\n",
              "      <td>3</td>\n",
              "      <td>3</td>\n",
              "      <td>Yes</td>\n",
              "      <td>7.38</td>\n",
              "      <td>No</td>\n",
              "      <td>...</td>\n",
              "      <td>Yes</td>\n",
              "      <td>No</td>\n",
              "      <td>No</td>\n",
              "      <td>Yes</td>\n",
              "      <td>Month-to-Month</td>\n",
              "      <td>Yes</td>\n",
              "      <td>Credit Card</td>\n",
              "      <td>83.9</td>\n",
              "      <td>267.40</td>\n",
              "      <td>Churned</td>\n",
              "    </tr>\n",
              "  </tbody>\n",
              "</table>\n",
              "<p>5 rows × 25 columns</p>\n",
              "</div>\n",
              "      <button class=\"colab-df-convert\" onclick=\"convertToInteractive('df-77e9618d-7b8b-4779-b024-b8c39b6e1c69')\"\n",
              "              title=\"Convert this dataframe to an interactive table.\"\n",
              "              style=\"display:none;\">\n",
              "        \n",
              "  <svg xmlns=\"http://www.w3.org/2000/svg\" height=\"24px\"viewBox=\"0 0 24 24\"\n",
              "       width=\"24px\">\n",
              "    <path d=\"M0 0h24v24H0V0z\" fill=\"none\"/>\n",
              "    <path d=\"M18.56 5.44l.94 2.06.94-2.06 2.06-.94-2.06-.94-.94-2.06-.94 2.06-2.06.94zm-11 1L8.5 8.5l.94-2.06 2.06-.94-2.06-.94L8.5 2.5l-.94 2.06-2.06.94zm10 10l.94 2.06.94-2.06 2.06-.94-2.06-.94-.94-2.06-.94 2.06-2.06.94z\"/><path d=\"M17.41 7.96l-1.37-1.37c-.4-.4-.92-.59-1.43-.59-.52 0-1.04.2-1.43.59L10.3 9.45l-7.72 7.72c-.78.78-.78 2.05 0 2.83L4 21.41c.39.39.9.59 1.41.59.51 0 1.02-.2 1.41-.59l7.78-7.78 2.81-2.81c.8-.78.8-2.07 0-2.86zM5.41 20L4 18.59l7.72-7.72 1.47 1.35L5.41 20z\"/>\n",
              "  </svg>\n",
              "      </button>\n",
              "      \n",
              "  <style>\n",
              "    .colab-df-container {\n",
              "      display:flex;\n",
              "      flex-wrap:wrap;\n",
              "      gap: 12px;\n",
              "    }\n",
              "\n",
              "    .colab-df-convert {\n",
              "      background-color: #E8F0FE;\n",
              "      border: none;\n",
              "      border-radius: 50%;\n",
              "      cursor: pointer;\n",
              "      display: none;\n",
              "      fill: #1967D2;\n",
              "      height: 32px;\n",
              "      padding: 0 0 0 0;\n",
              "      width: 32px;\n",
              "    }\n",
              "\n",
              "    .colab-df-convert:hover {\n",
              "      background-color: #E2EBFA;\n",
              "      box-shadow: 0px 1px 2px rgba(60, 64, 67, 0.3), 0px 1px 3px 1px rgba(60, 64, 67, 0.15);\n",
              "      fill: #174EA6;\n",
              "    }\n",
              "\n",
              "    [theme=dark] .colab-df-convert {\n",
              "      background-color: #3B4455;\n",
              "      fill: #D2E3FC;\n",
              "    }\n",
              "\n",
              "    [theme=dark] .colab-df-convert:hover {\n",
              "      background-color: #434B5C;\n",
              "      box-shadow: 0px 1px 3px 1px rgba(0, 0, 0, 0.15);\n",
              "      filter: drop-shadow(0px 1px 2px rgba(0, 0, 0, 0.3));\n",
              "      fill: #FFFFFF;\n",
              "    }\n",
              "  </style>\n",
              "\n",
              "      <script>\n",
              "        const buttonEl =\n",
              "          document.querySelector('#df-77e9618d-7b8b-4779-b024-b8c39b6e1c69 button.colab-df-convert');\n",
              "        buttonEl.style.display =\n",
              "          google.colab.kernel.accessAllowed ? 'block' : 'none';\n",
              "\n",
              "        async function convertToInteractive(key) {\n",
              "          const element = document.querySelector('#df-77e9618d-7b8b-4779-b024-b8c39b6e1c69');\n",
              "          const dataTable =\n",
              "            await google.colab.kernel.invokeFunction('convertToInteractive',\n",
              "                                                     [key], {});\n",
              "          if (!dataTable) return;\n",
              "\n",
              "          const docLinkHtml = 'Like what you see? Visit the ' +\n",
              "            '<a target=\"_blank\" href=https://colab.research.google.com/notebooks/data_table.ipynb>data table notebook</a>'\n",
              "            + ' to learn more about interactive tables.';\n",
              "          element.innerHTML = '';\n",
              "          dataTable['output_type'] = 'display_data';\n",
              "          await google.colab.output.renderOutput(dataTable, element);\n",
              "          const docLink = document.createElement('div');\n",
              "          docLink.innerHTML = docLinkHtml;\n",
              "          element.appendChild(docLink);\n",
              "        }\n",
              "      </script>\n",
              "    </div>\n",
              "  </div>\n",
              "  "
            ]
          },
          "metadata": {},
          "execution_count": 135
        }
      ]
    },
    {
      "cell_type": "code",
      "source": [
        "df.shape"
      ],
      "metadata": {
        "colab": {
          "base_uri": "https://localhost:8080/"
        },
        "id": "5Wuo-L_KuUkj",
        "outputId": "433cf8f6-5209-412a-c921-714c62efac53"
      },
      "execution_count": 136,
      "outputs": [
        {
          "output_type": "execute_result",
          "data": {
            "text/plain": [
              "(7043, 25)"
            ]
          },
          "metadata": {},
          "execution_count": 136
        }
      ]
    },
    {
      "cell_type": "code",
      "source": [
        "df.info()"
      ],
      "metadata": {
        "colab": {
          "base_uri": "https://localhost:8080/"
        },
        "id": "EGyczFguvEyN",
        "outputId": "405212bc-913d-445b-a22e-b4b846b8fb2d"
      },
      "execution_count": 137,
      "outputs": [
        {
          "output_type": "stream",
          "name": "stdout",
          "text": [
            "<class 'pandas.core.frame.DataFrame'>\n",
            "RangeIndex: 7043 entries, 0 to 7042\n",
            "Data columns (total 25 columns):\n",
            " #   Column                             Non-Null Count  Dtype  \n",
            "---  ------                             --------------  -----  \n",
            " 0   Customer ID                        7043 non-null   object \n",
            " 1   Gender                             7043 non-null   object \n",
            " 2   Age                                7043 non-null   int64  \n",
            " 3   Married                            7043 non-null   object \n",
            " 4   Number of Dependents               7043 non-null   int64  \n",
            " 5   Number of Referrals                7043 non-null   int64  \n",
            " 6   Tenure in Months                   7043 non-null   int64  \n",
            " 7   Phone Service                      7043 non-null   object \n",
            " 8   Avg Monthly Long Distance Charges  7043 non-null   float64\n",
            " 9   Multiple Lines                     7043 non-null   object \n",
            " 10  Internet Service                   7043 non-null   object \n",
            " 11  Online Security                    7043 non-null   object \n",
            " 12  Online Backup                      7043 non-null   object \n",
            " 13  Device Protection Plan             7043 non-null   object \n",
            " 14  Premium Tech Support               7043 non-null   object \n",
            " 15  Streaming TV                       7043 non-null   object \n",
            " 16  Streaming Movies                   7043 non-null   object \n",
            " 17  Streaming Music                    7043 non-null   object \n",
            " 18  Unlimited Data                     7043 non-null   object \n",
            " 19  Contract                           7043 non-null   object \n",
            " 20  Paperless Billing                  7043 non-null   object \n",
            " 21  Payment Method                     7043 non-null   object \n",
            " 22  Monthly Charge                     7043 non-null   float64\n",
            " 23  Total Charges                      7043 non-null   float64\n",
            " 24  Customer Status                    7043 non-null   object \n",
            "dtypes: float64(3), int64(4), object(18)\n",
            "memory usage: 1.3+ MB\n"
          ]
        }
      ]
    },
    {
      "cell_type": "code",
      "source": [
        "df.dtypes"
      ],
      "metadata": {
        "colab": {
          "base_uri": "https://localhost:8080/"
        },
        "id": "Sf6clLOwvEav",
        "outputId": "de6ffeb5-27ed-4d23-9a58-ef0fca5ce766"
      },
      "execution_count": 138,
      "outputs": [
        {
          "output_type": "execute_result",
          "data": {
            "text/plain": [
              "Customer ID                           object\n",
              "Gender                                object\n",
              "Age                                    int64\n",
              "Married                               object\n",
              "Number of Dependents                   int64\n",
              "Number of Referrals                    int64\n",
              "Tenure in Months                       int64\n",
              "Phone Service                         object\n",
              "Avg Monthly Long Distance Charges    float64\n",
              "Multiple Lines                        object\n",
              "Internet Service                      object\n",
              "Online Security                       object\n",
              "Online Backup                         object\n",
              "Device Protection Plan                object\n",
              "Premium Tech Support                  object\n",
              "Streaming TV                          object\n",
              "Streaming Movies                      object\n",
              "Streaming Music                       object\n",
              "Unlimited Data                        object\n",
              "Contract                              object\n",
              "Paperless Billing                     object\n",
              "Payment Method                        object\n",
              "Monthly Charge                       float64\n",
              "Total Charges                        float64\n",
              "Customer Status                       object\n",
              "dtype: object"
            ]
          },
          "metadata": {},
          "execution_count": 138
        }
      ]
    },
    {
      "cell_type": "markdown",
      "source": [
        "- The target we are going to use here is ***Customer Status***"
      ],
      "metadata": {
        "id": "jvB2H7szvfhO"
      }
    },
    {
      "cell_type": "markdown",
      "source": [
        "### DATA MANIPULATION"
      ],
      "metadata": {
        "id": "G4WK1w45LPtM"
      }
    },
    {
      "cell_type": "code",
      "source": [
        "## DATA MANIPULATION\n",
        "df = df.drop(['Customer ID'], axis = 1)\n",
        "df['Total Charges'] = pd.to_numeric(df['Total Charges'], errors='coerce')\n",
        "df.isnull().sum()"
      ],
      "metadata": {
        "colab": {
          "base_uri": "https://localhost:8080/"
        },
        "id": "r8HxAJZrvD3A",
        "outputId": "be6ecdf2-cb29-459b-db54-1aa54488e3b0"
      },
      "execution_count": 139,
      "outputs": [
        {
          "output_type": "execute_result",
          "data": {
            "text/plain": [
              "Gender                               0\n",
              "Age                                  0\n",
              "Married                              0\n",
              "Number of Dependents                 0\n",
              "Number of Referrals                  0\n",
              "Tenure in Months                     0\n",
              "Phone Service                        0\n",
              "Avg Monthly Long Distance Charges    0\n",
              "Multiple Lines                       0\n",
              "Internet Service                     0\n",
              "Online Security                      0\n",
              "Online Backup                        0\n",
              "Device Protection Plan               0\n",
              "Premium Tech Support                 0\n",
              "Streaming TV                         0\n",
              "Streaming Movies                     0\n",
              "Streaming Music                      0\n",
              "Unlimited Data                       0\n",
              "Contract                             0\n",
              "Paperless Billing                    0\n",
              "Payment Method                       0\n",
              "Monthly Charge                       0\n",
              "Total Charges                        0\n",
              "Customer Status                      0\n",
              "dtype: int64"
            ]
          },
          "metadata": {},
          "execution_count": 139
        }
      ]
    },
    {
      "cell_type": "markdown",
      "source": [
        "There is no missing values,  that's great!. Lets proceed."
      ],
      "metadata": {
        "id": "iIEwH7Rp3Rmt"
      }
    },
    {
      "cell_type": "markdown",
      "source": [
        "\n",
        "## **DATA PREPROCCESSING**"
      ],
      "metadata": {
        "id": "eSK-NCH54XUg"
      }
    },
    {
      "cell_type": "code",
      "source": [
        "from sklearn.preprocessing import LabelEncoder\n",
        "from sklearn.preprocessing import StandardScaler\n",
        "\n",
        "from sklearn.tree import DecisionTreeClassifier\n",
        "from sklearn.ensemble import RandomForestClassifier\n",
        "from sklearn.neighbors import KNeighborsClassifier\n",
        "from sklearn.svm import SVC\n",
        "from sklearn.ensemble import AdaBoostClassifier\n",
        "from sklearn.ensemble import GradientBoostingClassifier\n",
        "from sklearn.linear_model import LogisticRegression\n",
        "from sklearn.model_selection import train_test_split\n",
        "from sklearn.metrics import accuracy_score\n",
        "from xgboost import XGBClassifier\n",
        "from sklearn import metrics\n",
        "from sklearn.metrics import roc_curve\n",
        "from sklearn.metrics import recall_score, confusion_matrix, precision_score, f1_score, accuracy_score, classification_report, roc_auc_score"
      ],
      "metadata": {
        "id": "ykWN-D1L5tBJ"
      },
      "execution_count": 140,
      "outputs": []
    },
    {
      "cell_type": "code",
      "source": [
        "# Encode categorical data \n",
        "def object_to_int(dataframe_series):\n",
        "    if dataframe_series.dtype=='object':\n",
        "        dataframe_series = LabelEncoder().fit_transform(dataframe_series)\n",
        "    return dataframe_series"
      ],
      "metadata": {
        "id": "6CvYa4b73Q9q"
      },
      "execution_count": 141,
      "outputs": []
    },
    {
      "cell_type": "code",
      "source": [
        "df = df.apply(lambda x: object_to_int(x))\n",
        "df.head()"
      ],
      "metadata": {
        "colab": {
          "base_uri": "https://localhost:8080/",
          "height": 369
        },
        "id": "tVgN1Nt8xDFA",
        "outputId": "0ef2bef8-772b-42f0-8dca-58a253d3ce52"
      },
      "execution_count": 142,
      "outputs": [
        {
          "output_type": "execute_result",
          "data": {
            "text/plain": [
              "   Gender  Age  Married  Number of Dependents  Number of Referrals  \\\n",
              "0       0   37        1                     0                    2   \n",
              "1       1   46        0                     0                    0   \n",
              "2       1   50        0                     0                    0   \n",
              "3       1   78        1                     0                    1   \n",
              "4       0   75        1                     0                    3   \n",
              "\n",
              "   Tenure in Months  Phone Service  Avg Monthly Long Distance Charges  \\\n",
              "0                 9              1                              42.39   \n",
              "1                 9              1                              10.69   \n",
              "2                 4              1                              33.65   \n",
              "3                13              1                              27.82   \n",
              "4                 3              1                               7.38   \n",
              "\n",
              "   Multiple Lines  Internet Service  ...  Streaming TV  Streaming Movies  \\\n",
              "0               0                 0  ...             2                 0   \n",
              "1               2                 0  ...             0                 2   \n",
              "2               0                 2  ...             0                 0   \n",
              "3               0                 2  ...             2                 2   \n",
              "4               0                 2  ...             2                 0   \n",
              "\n",
              "   Streaming Music  Unlimited Data  Contract  Paperless Billing  \\\n",
              "0                0               2         1                  1   \n",
              "1                2               0         0                  0   \n",
              "2                0               2         0                  1   \n",
              "3                0               2         0                  1   \n",
              "4                0               2         0                  1   \n",
              "\n",
              "   Payment Method  Monthly Charge  Total Charges  Customer Status  \n",
              "0               1            65.6         593.30                1  \n",
              "1               1            -4.0         542.40                1  \n",
              "2               0            73.9         280.85                0  \n",
              "3               0            98.0        1237.85                0  \n",
              "4               1            83.9         267.40                0  \n",
              "\n",
              "[5 rows x 24 columns]"
            ],
            "text/html": [
              "\n",
              "  <div id=\"df-c686e868-56fe-4abf-a627-1d86eabf424f\">\n",
              "    <div class=\"colab-df-container\">\n",
              "      <div>\n",
              "<style scoped>\n",
              "    .dataframe tbody tr th:only-of-type {\n",
              "        vertical-align: middle;\n",
              "    }\n",
              "\n",
              "    .dataframe tbody tr th {\n",
              "        vertical-align: top;\n",
              "    }\n",
              "\n",
              "    .dataframe thead th {\n",
              "        text-align: right;\n",
              "    }\n",
              "</style>\n",
              "<table border=\"1\" class=\"dataframe\">\n",
              "  <thead>\n",
              "    <tr style=\"text-align: right;\">\n",
              "      <th></th>\n",
              "      <th>Gender</th>\n",
              "      <th>Age</th>\n",
              "      <th>Married</th>\n",
              "      <th>Number of Dependents</th>\n",
              "      <th>Number of Referrals</th>\n",
              "      <th>Tenure in Months</th>\n",
              "      <th>Phone Service</th>\n",
              "      <th>Avg Monthly Long Distance Charges</th>\n",
              "      <th>Multiple Lines</th>\n",
              "      <th>Internet Service</th>\n",
              "      <th>...</th>\n",
              "      <th>Streaming TV</th>\n",
              "      <th>Streaming Movies</th>\n",
              "      <th>Streaming Music</th>\n",
              "      <th>Unlimited Data</th>\n",
              "      <th>Contract</th>\n",
              "      <th>Paperless Billing</th>\n",
              "      <th>Payment Method</th>\n",
              "      <th>Monthly Charge</th>\n",
              "      <th>Total Charges</th>\n",
              "      <th>Customer Status</th>\n",
              "    </tr>\n",
              "  </thead>\n",
              "  <tbody>\n",
              "    <tr>\n",
              "      <th>0</th>\n",
              "      <td>0</td>\n",
              "      <td>37</td>\n",
              "      <td>1</td>\n",
              "      <td>0</td>\n",
              "      <td>2</td>\n",
              "      <td>9</td>\n",
              "      <td>1</td>\n",
              "      <td>42.39</td>\n",
              "      <td>0</td>\n",
              "      <td>0</td>\n",
              "      <td>...</td>\n",
              "      <td>2</td>\n",
              "      <td>0</td>\n",
              "      <td>0</td>\n",
              "      <td>2</td>\n",
              "      <td>1</td>\n",
              "      <td>1</td>\n",
              "      <td>1</td>\n",
              "      <td>65.6</td>\n",
              "      <td>593.30</td>\n",
              "      <td>1</td>\n",
              "    </tr>\n",
              "    <tr>\n",
              "      <th>1</th>\n",
              "      <td>1</td>\n",
              "      <td>46</td>\n",
              "      <td>0</td>\n",
              "      <td>0</td>\n",
              "      <td>0</td>\n",
              "      <td>9</td>\n",
              "      <td>1</td>\n",
              "      <td>10.69</td>\n",
              "      <td>2</td>\n",
              "      <td>0</td>\n",
              "      <td>...</td>\n",
              "      <td>0</td>\n",
              "      <td>2</td>\n",
              "      <td>2</td>\n",
              "      <td>0</td>\n",
              "      <td>0</td>\n",
              "      <td>0</td>\n",
              "      <td>1</td>\n",
              "      <td>-4.0</td>\n",
              "      <td>542.40</td>\n",
              "      <td>1</td>\n",
              "    </tr>\n",
              "    <tr>\n",
              "      <th>2</th>\n",
              "      <td>1</td>\n",
              "      <td>50</td>\n",
              "      <td>0</td>\n",
              "      <td>0</td>\n",
              "      <td>0</td>\n",
              "      <td>4</td>\n",
              "      <td>1</td>\n",
              "      <td>33.65</td>\n",
              "      <td>0</td>\n",
              "      <td>2</td>\n",
              "      <td>...</td>\n",
              "      <td>0</td>\n",
              "      <td>0</td>\n",
              "      <td>0</td>\n",
              "      <td>2</td>\n",
              "      <td>0</td>\n",
              "      <td>1</td>\n",
              "      <td>0</td>\n",
              "      <td>73.9</td>\n",
              "      <td>280.85</td>\n",
              "      <td>0</td>\n",
              "    </tr>\n",
              "    <tr>\n",
              "      <th>3</th>\n",
              "      <td>1</td>\n",
              "      <td>78</td>\n",
              "      <td>1</td>\n",
              "      <td>0</td>\n",
              "      <td>1</td>\n",
              "      <td>13</td>\n",
              "      <td>1</td>\n",
              "      <td>27.82</td>\n",
              "      <td>0</td>\n",
              "      <td>2</td>\n",
              "      <td>...</td>\n",
              "      <td>2</td>\n",
              "      <td>2</td>\n",
              "      <td>0</td>\n",
              "      <td>2</td>\n",
              "      <td>0</td>\n",
              "      <td>1</td>\n",
              "      <td>0</td>\n",
              "      <td>98.0</td>\n",
              "      <td>1237.85</td>\n",
              "      <td>0</td>\n",
              "    </tr>\n",
              "    <tr>\n",
              "      <th>4</th>\n",
              "      <td>0</td>\n",
              "      <td>75</td>\n",
              "      <td>1</td>\n",
              "      <td>0</td>\n",
              "      <td>3</td>\n",
              "      <td>3</td>\n",
              "      <td>1</td>\n",
              "      <td>7.38</td>\n",
              "      <td>0</td>\n",
              "      <td>2</td>\n",
              "      <td>...</td>\n",
              "      <td>2</td>\n",
              "      <td>0</td>\n",
              "      <td>0</td>\n",
              "      <td>2</td>\n",
              "      <td>0</td>\n",
              "      <td>1</td>\n",
              "      <td>1</td>\n",
              "      <td>83.9</td>\n",
              "      <td>267.40</td>\n",
              "      <td>0</td>\n",
              "    </tr>\n",
              "  </tbody>\n",
              "</table>\n",
              "<p>5 rows × 24 columns</p>\n",
              "</div>\n",
              "      <button class=\"colab-df-convert\" onclick=\"convertToInteractive('df-c686e868-56fe-4abf-a627-1d86eabf424f')\"\n",
              "              title=\"Convert this dataframe to an interactive table.\"\n",
              "              style=\"display:none;\">\n",
              "        \n",
              "  <svg xmlns=\"http://www.w3.org/2000/svg\" height=\"24px\"viewBox=\"0 0 24 24\"\n",
              "       width=\"24px\">\n",
              "    <path d=\"M0 0h24v24H0V0z\" fill=\"none\"/>\n",
              "    <path d=\"M18.56 5.44l.94 2.06.94-2.06 2.06-.94-2.06-.94-.94-2.06-.94 2.06-2.06.94zm-11 1L8.5 8.5l.94-2.06 2.06-.94-2.06-.94L8.5 2.5l-.94 2.06-2.06.94zm10 10l.94 2.06.94-2.06 2.06-.94-2.06-.94-.94-2.06-.94 2.06-2.06.94z\"/><path d=\"M17.41 7.96l-1.37-1.37c-.4-.4-.92-.59-1.43-.59-.52 0-1.04.2-1.43.59L10.3 9.45l-7.72 7.72c-.78.78-.78 2.05 0 2.83L4 21.41c.39.39.9.59 1.41.59.51 0 1.02-.2 1.41-.59l7.78-7.78 2.81-2.81c.8-.78.8-2.07 0-2.86zM5.41 20L4 18.59l7.72-7.72 1.47 1.35L5.41 20z\"/>\n",
              "  </svg>\n",
              "      </button>\n",
              "      \n",
              "  <style>\n",
              "    .colab-df-container {\n",
              "      display:flex;\n",
              "      flex-wrap:wrap;\n",
              "      gap: 12px;\n",
              "    }\n",
              "\n",
              "    .colab-df-convert {\n",
              "      background-color: #E8F0FE;\n",
              "      border: none;\n",
              "      border-radius: 50%;\n",
              "      cursor: pointer;\n",
              "      display: none;\n",
              "      fill: #1967D2;\n",
              "      height: 32px;\n",
              "      padding: 0 0 0 0;\n",
              "      width: 32px;\n",
              "    }\n",
              "\n",
              "    .colab-df-convert:hover {\n",
              "      background-color: #E2EBFA;\n",
              "      box-shadow: 0px 1px 2px rgba(60, 64, 67, 0.3), 0px 1px 3px 1px rgba(60, 64, 67, 0.15);\n",
              "      fill: #174EA6;\n",
              "    }\n",
              "\n",
              "    [theme=dark] .colab-df-convert {\n",
              "      background-color: #3B4455;\n",
              "      fill: #D2E3FC;\n",
              "    }\n",
              "\n",
              "    [theme=dark] .colab-df-convert:hover {\n",
              "      background-color: #434B5C;\n",
              "      box-shadow: 0px 1px 3px 1px rgba(0, 0, 0, 0.15);\n",
              "      filter: drop-shadow(0px 1px 2px rgba(0, 0, 0, 0.3));\n",
              "      fill: #FFFFFF;\n",
              "    }\n",
              "  </style>\n",
              "\n",
              "      <script>\n",
              "        const buttonEl =\n",
              "          document.querySelector('#df-c686e868-56fe-4abf-a627-1d86eabf424f button.colab-df-convert');\n",
              "        buttonEl.style.display =\n",
              "          google.colab.kernel.accessAllowed ? 'block' : 'none';\n",
              "\n",
              "        async function convertToInteractive(key) {\n",
              "          const element = document.querySelector('#df-c686e868-56fe-4abf-a627-1d86eabf424f');\n",
              "          const dataTable =\n",
              "            await google.colab.kernel.invokeFunction('convertToInteractive',\n",
              "                                                     [key], {});\n",
              "          if (!dataTable) return;\n",
              "\n",
              "          const docLinkHtml = 'Like what you see? Visit the ' +\n",
              "            '<a target=\"_blank\" href=https://colab.research.google.com/notebooks/data_table.ipynb>data table notebook</a>'\n",
              "            + ' to learn more about interactive tables.';\n",
              "          element.innerHTML = '';\n",
              "          dataTable['output_type'] = 'display_data';\n",
              "          await google.colab.output.renderOutput(dataTable, element);\n",
              "          const docLink = document.createElement('div');\n",
              "          docLink.innerHTML = docLinkHtml;\n",
              "          element.appendChild(docLink);\n",
              "        }\n",
              "      </script>\n",
              "    </div>\n",
              "  </div>\n",
              "  "
            ]
          },
          "metadata": {},
          "execution_count": 142
        }
      ]
    },
    {
      "cell_type": "code",
      "source": [
        "X = df.drop(columns = ['Customer Status'])\n",
        "Y = df['Customer Status'].values"
      ],
      "metadata": {
        "id": "W_AUNszMxC53"
      },
      "execution_count": 143,
      "outputs": []
    },
    {
      "cell_type": "code",
      "source": [
        "#Splitting data set into test set and train set\n",
        "from sklearn.model_selection import train_test_split\n",
        "X_train, X_test, Y_train, Y_test = train_test_split(X,Y,test_size = 0.20, random_state = 40, stratify=Y)"
      ],
      "metadata": {
        "id": "r_Jpwyf4xCr1"
      },
      "execution_count": 144,
      "outputs": []
    },
    {
      "cell_type": "code",
      "source": [
        "num_cols = [\"Tenure in Months\", 'Avg Monthly Long Distance Charges', 'Monthly Charge', 'Total Charges']\n",
        "df_std = pd.DataFrame(StandardScaler().fit_transform(df[num_cols].astype('float64')),\n",
        "                       columns=num_cols)"
      ],
      "metadata": {
        "id": "hFei8Su5xChv"
      },
      "execution_count": 145,
      "outputs": []
    },
    {
      "cell_type": "code",
      "source": [
        "#Seperating columns \n",
        "cat_cols1 =['PaymentMethod', 'Contract', 'InternetService'] # those that need one-hot encoding\n",
        "cat_cols_le = list(set(X_train.columns)- set(num_cols) - set(cat_cols1)) #those that need label encoding"
      ],
      "metadata": {
        "id": "4WY2H87DMQkw"
      },
      "execution_count": 146,
      "outputs": []
    },
    {
      "cell_type": "code",
      "source": [
        "#Scaling Numerical columns\n",
        "std = StandardScaler()\n",
        "X_train[num_cols] = std.fit_transform(X_train[num_cols])\n",
        "X_train[num_cols] = pd.DataFrame(X_train[num_cols], columns=num_cols)\n",
        "\n",
        "X_test[num_cols] = std.transform(X_test[num_cols])\n",
        "X_test[num_cols] = pd.DataFrame(X_test[num_cols], columns=num_cols)"
      ],
      "metadata": {
        "id": "hKHaH1Me96BK"
      },
      "execution_count": 147,
      "outputs": []
    },
    {
      "cell_type": "markdown",
      "source": [
        "### LOGISTIC REGRESSION"
      ],
      "metadata": {
        "id": "0zh1BevXEoGX"
      }
    },
    {
      "cell_type": "code",
      "source": [
        "#Logistic Regression\n",
        "from sklearn.linear_model import LogisticRegression\n",
        "lr_model = LogisticRegression()\n",
        "lr_model.fit(X_train,Y_train)\n",
        "lr_pred= lr_model.predict(X_test)\n",
        "accuracy_lr = lr_model.score(X_test,Y_test)\n",
        "lr_auc = roc_auc_score(Y_test, lr_pred)\n",
        "print(\"Logistic Regression accuracy is :\",accuracy_lr)\n",
        "print(\"Logistic Regression roc_auc_score is :\",lr_auc)"
      ],
      "metadata": {
        "id": "4BcYtYSeApD4",
        "colab": {
          "base_uri": "https://localhost:8080/"
        },
        "outputId": "07fb7156-859a-4a07-c58d-3e88b48823f1"
      },
      "execution_count": 148,
      "outputs": [
        {
          "output_type": "stream",
          "name": "stdout",
          "text": [
            "Logistic Regression accuracy is : 0.8353442157558553\n",
            "Logistic Regression roc_auc_score is : 0.7760740396290267\n"
          ]
        }
      ]
    },
    {
      "cell_type": "code",
      "source": [
        "lr_pred= lr_model.predict(X_test)\n",
        "report = classification_report(Y_test,lr_pred)\n",
        "print(report)"
      ],
      "metadata": {
        "colab": {
          "base_uri": "https://localhost:8080/"
        },
        "id": "P3nvOYw9Iy4n",
        "outputId": "ee5439db-adf1-4254-84cf-86811e713fc2"
      },
      "execution_count": 149,
      "outputs": [
        {
          "output_type": "stream",
          "name": "stdout",
          "text": [
            "              precision    recall  f1-score   support\n",
            "\n",
            "           0       0.71      0.65      0.68       374\n",
            "           1       0.88      0.90      0.89      1035\n",
            "\n",
            "    accuracy                           0.84      1409\n",
            "   macro avg       0.79      0.78      0.78      1409\n",
            "weighted avg       0.83      0.84      0.83      1409\n",
            "\n"
          ]
        }
      ]
    },
    {
      "cell_type": "code",
      "source": [
        "plt.figure(figsize=(4,3))\n",
        "sns.heatmap(confusion_matrix(Y_test, lr_pred),\n",
        "                annot=True,fmt = \"d\",linecolor=\"k\",linewidths=3)\n",
        "    \n",
        "plt.title(\"LOGISTIC REGRESSION CONFUSION MATRIX\",fontsize=14)\n",
        "plt.show()"
      ],
      "metadata": {
        "colab": {
          "base_uri": "https://localhost:8080/",
          "height": 228
        },
        "id": "mPlR28m8JC9F",
        "outputId": "07f44e62-240d-4f39-c6f1-537f628739f3"
      },
      "execution_count": 150,
      "outputs": [
        {
          "output_type": "display_data",
          "data": {
            "text/plain": [
              "<Figure size 288x216 with 2 Axes>"
            ],
            "image/png": "[encoded data removed]"
          },
          "metadata": {
            "needs_background": "light"
          }
        }
      ]
    },
    {
      "cell_type": "markdown",
      "source": [
        "### DECISION  TREES"
      ],
      "metadata": {
        "id": "L_hzLO12Egs7"
      }
    },
    {
      "cell_type": "code",
      "source": [
        "#Decision Tree\n",
        "dt_model = DecisionTreeClassifier(max_depth = 9, random_state = 123,\n",
        "                                       splitter = \"best\", criterion = \"gini\")\n",
        "dt_model.fit(X_train,Y_train)\n",
        "predictdt_y = dt_model.predict(X_test)\n",
        "accuracy_dt = dt_model.score(X_test,Y_test)\n",
        "print(\"Decision Tree accuracy is :\",accuracy_dt)\n",
        "dt_auc = roc_auc_score(Y_test, predictdt_y)\n",
        "print(\"Decision Tree roc_auc_score is :\",dt_auc)"
      ],
      "metadata": {
        "id": "_cAH0HoJAo1u",
        "colab": {
          "base_uri": "https://localhost:8080/"
        },
        "outputId": "64205a9f-ae30-43b5-bfe5-42ff14ca454e"
      },
      "execution_count": 151,
      "outputs": [
        {
          "output_type": "stream",
          "name": "stdout",
          "text": [
            "Decision Tree accuracy is : 0.8246983676366217\n",
            "Decision Tree roc_auc_score is : 0.7543129504766334\n"
          ]
        }
      ]
    },
    {
      "cell_type": "code",
      "source": [
        "plt.figure(figsize=(4,3))\n",
        "sns.heatmap(confusion_matrix(Y_test, predictdt_y),\n",
        "                annot=True,fmt = \"d\",linecolor=\"k\",linewidths=3)\n",
        "    \n",
        "plt.title(\" DECISION CONFUSION MATRIX\",fontsize=14)\n",
        "plt.xlabel(\"Predicted\")\n",
        "plt.ylabel(\"Truth\")\n",
        "plt.show()"
      ],
      "metadata": {
        "colab": {
          "base_uri": "https://localhost:8080/",
          "height": 242
        },
        "id": "AdpjK3K38djh",
        "outputId": "2e289848-e396-4262-a020-bc23e6416629"
      },
      "execution_count": 152,
      "outputs": [
        {
          "output_type": "display_data",
          "data": {
            "text/plain": [
              "<Figure size 288x216 with 2 Axes>"
            ],
            "image/png": "[encoded data removed]"
          },
          "metadata": {
            "needs_background": "light"
          }
        }
      ]
    },
    {
      "cell_type": "markdown",
      "source": [
        "### KNN"
      ],
      "metadata": {
        "id": "c6qeviIjEVpe"
      }
    },
    {
      "cell_type": "code",
      "source": [
        "#KNN\n",
        "knn_model = KNeighborsClassifier(algorithm='auto', leaf_size=30, metric='minkowski',\n",
        "                           metric_params=None, n_jobs=1, n_neighbors=9, p=2,\n",
        "                           weights='uniform') \n",
        "knn_model.fit(X_train,Y_train)\n",
        "predicted_Y = knn_model.predict(X_test)\n",
        "accuracy_knn = knn_model.score(X_test,Y_test)\n",
        "print(\"KNN accuracy:\",accuracy_knn)\n",
        "knn_auc = roc_auc_score(Y_test, predicted_Y)\n",
        "print(\"KNN roc_auc_score is :\",knn_auc)"
      ],
      "metadata": {
        "colab": {
          "base_uri": "https://localhost:8080/"
        },
        "id": "9X1uDDOJeDaa",
        "outputId": "ff7a94b3-2ab9-428a-b58b-7c5a7e9e3957"
      },
      "execution_count": 153,
      "outputs": [
        {
          "output_type": "stream",
          "name": "stdout",
          "text": [
            "KNN accuracy: 0.8105039034776437\n",
            "KNN roc_auc_score is : 0.7506277609858173\n"
          ]
        }
      ]
    },
    {
      "cell_type": "code",
      "source": [
        "print(classification_report(Y_test, predicted_Y))"
      ],
      "metadata": {
        "colab": {
          "base_uri": "https://localhost:8080/"
        },
        "id": "qguZuu8xjBqb",
        "outputId": "13084a55-eca9-482b-cb9e-81c5cb834a67"
      },
      "execution_count": 154,
      "outputs": [
        {
          "output_type": "stream",
          "name": "stdout",
          "text": [
            "              precision    recall  f1-score   support\n",
            "\n",
            "           0       0.65      0.62      0.64       374\n",
            "           1       0.87      0.88      0.87      1035\n",
            "\n",
            "    accuracy                           0.81      1409\n",
            "   macro avg       0.76      0.75      0.75      1409\n",
            "weighted avg       0.81      0.81      0.81      1409\n",
            "\n"
          ]
        }
      ]
    },
    {
      "cell_type": "code",
      "source": [
        "plt.figure(figsize=(4,3))\n",
        "sns.heatmap(confusion_matrix(Y_test, predicted_Y),\n",
        "                annot=True,fmt = \"d\",linecolor=\"k\",linewidths=3)\n",
        "    \n",
        "plt.title(\" KNN CONFUSION MATRIX\",fontsize=14)\n",
        "plt.xlabel(\"Predicted\")\n",
        "plt.ylabel(\"Truth\")\n",
        "plt.show()"
      ],
      "metadata": {
        "colab": {
          "base_uri": "https://localhost:8080/",
          "height": 242
        },
        "id": "zYyB2Is9kh_Z",
        "outputId": "171093a5-80f3-4bd5-891c-bbcacd053b7b"
      },
      "execution_count": 155,
      "outputs": [
        {
          "output_type": "display_data",
          "data": {
            "text/plain": [
              "<Figure size 288x216 with 2 Axes>"
            ],
            "image/png": "[encoded data removed]"
          },
          "metadata": {
            "needs_background": "light"
          }
        }
      ]
    },
    {
      "cell_type": "markdown",
      "source": [
        "Here it says, 233 customers churned and the Random forest model predicted that they would churn and 126 customers stayed when the model predicted that they would churn.The model also predicted 909 customers would stay and they stayed and 141 customers churned when the model predicted they would stay.\n",
        "\n"
      ],
      "metadata": {
        "id": "-9AKYFJPrRev"
      }
    },
    {
      "cell_type": "markdown",
      "source": [
        "### SUPPORT VECTOR MACHINE"
      ],
      "metadata": {
        "id": "kCLCwXgzEL1c"
      }
    },
    {
      "cell_type": "code",
      "source": [
        "#Support Vector Machine\n",
        "svc_model = SVC(C=1.0, kernel='linear', probability=True, random_state=124)\n",
        "svc_model.fit(X_train,Y_train)\n",
        "predict_Y = svc_model.predict(X_test)\n",
        "accuracy_svc = svc_model.score(X_test,Y_test)\n",
        "print(\"SVM accuracy is :\",accuracy_svc)\n",
        "svc_auc = roc_auc_score(Y_test, predict_Y)\n",
        "print(\"SVM roc_auc_score is :\",svc_auc)"
      ],
      "metadata": {
        "id": "Ujj1enJpAopv",
        "colab": {
          "base_uri": "https://localhost:8080/"
        },
        "outputId": "baaff62c-8a59-4376-af11-a978fce151f1"
      },
      "execution_count": 156,
      "outputs": [
        {
          "output_type": "stream",
          "name": "stdout",
          "text": [
            "SVM accuracy is : 0.8282469836763662\n",
            "SVM roc_auc_score is : 0.7755121547960422\n"
          ]
        }
      ]
    },
    {
      "cell_type": "code",
      "source": [
        "print(classification_report(Y_test, predict_Y))"
      ],
      "metadata": {
        "id": "akFGf7n-AoYu",
        "colab": {
          "base_uri": "https://localhost:8080/"
        },
        "outputId": "2e2721c0-a025-48e5-c514-c8999eb0008e"
      },
      "execution_count": 157,
      "outputs": [
        {
          "output_type": "stream",
          "name": "stdout",
          "text": [
            "              precision    recall  f1-score   support\n",
            "\n",
            "           0       0.68      0.66      0.67       374\n",
            "           1       0.88      0.89      0.88      1035\n",
            "\n",
            "    accuracy                           0.83      1409\n",
            "   macro avg       0.78      0.78      0.78      1409\n",
            "weighted avg       0.83      0.83      0.83      1409\n",
            "\n"
          ]
        }
      ]
    },
    {
      "cell_type": "code",
      "source": [
        "plt.figure(figsize=(4,3))\n",
        "sns.heatmap(confusion_matrix(Y_test, predict_Y),\n",
        "                annot=True,fmt = \"d\",linecolor=\"k\",linewidths=3)\n",
        "    \n",
        "plt.title(\"SVC CONFUSION MATRIX\",fontsize=14)\n",
        "plt.show()"
      ],
      "metadata": {
        "colab": {
          "base_uri": "https://localhost:8080/",
          "height": 228
        },
        "id": "vJ19M00IE-OU",
        "outputId": "8422bc66-3f24-4b4e-bccf-b423fe03509a"
      },
      "execution_count": 158,
      "outputs": [
        {
          "output_type": "display_data",
          "data": {
            "text/plain": [
              "<Figure size 288x216 with 2 Axes>"
            ],
            "image/png": "[encoded data removed]"
          },
          "metadata": {
            "needs_background": "light"
          }
        }
      ]
    },
    {
      "cell_type": "markdown",
      "source": [
        "### RANDOM FOREST CLASSIFIER"
      ],
      "metadata": {
        "id": "B8bSiZ8OED5T"
      }
    },
    {
      "cell_type": "code",
      "source": [
        "model_rf = RandomForestClassifier(n_estimators=500 , oob_score = True, n_jobs = -1,\n",
        "                                  random_state =50, max_features = \"auto\",\n",
        "                                  max_leaf_nodes = 30)\n",
        "model_rf.fit(X_train, Y_train)\n",
        "predictrf_y = model_rf.predict(X_test)\n",
        "accuracy_rf = model_rf.score(X_test,Y_test)\n",
        "print(\"Random Forest accuracy is :\",accuracy_rf)\n",
        "rf_auc = roc_auc_score(Y_test, predictrf_y)\n",
        "print(\"Random Forest roc_auc_score is :\",rf_auc)"
      ],
      "metadata": {
        "id": "fVUjfx8EAoOu",
        "colab": {
          "base_uri": "https://localhost:8080/"
        },
        "outputId": "63aa3998-0429-4ee8-b665-f735a953cacd"
      },
      "execution_count": 159,
      "outputs": [
        {
          "output_type": "stream",
          "name": "stdout",
          "text": [
            "Random Forest accuracy is : 0.843860894251242\n",
            "Random Forest roc_auc_score is : 0.7682102353457853\n"
          ]
        }
      ]
    },
    {
      "cell_type": "code",
      "source": [
        "print(classification_report(Y_test, predictrf_y))"
      ],
      "metadata": {
        "id": "cip__Q_HAnV5",
        "colab": {
          "base_uri": "https://localhost:8080/"
        },
        "outputId": "5f41019d-561d-4a94-f474-eeb3e37a49d4"
      },
      "execution_count": 160,
      "outputs": [
        {
          "output_type": "stream",
          "name": "stdout",
          "text": [
            "              precision    recall  f1-score   support\n",
            "\n",
            "           0       0.76      0.61      0.67       374\n",
            "           1       0.87      0.93      0.90      1035\n",
            "\n",
            "    accuracy                           0.84      1409\n",
            "   macro avg       0.81      0.77      0.79      1409\n",
            "weighted avg       0.84      0.84      0.84      1409\n",
            "\n"
          ]
        }
      ]
    },
    {
      "cell_type": "code",
      "source": [
        "plt.figure(figsize=(4,3))\n",
        "sns.heatmap(confusion_matrix(Y_test, predictrf_y),\n",
        "                annot=True,fmt = \"d\",linecolor=\"k\",linewidths=3)\n",
        "    \n",
        "plt.title(\" RANDOM FOREST CONFUSION MATRIX\",fontsize=14)\n",
        "plt.xlabel(\"Predicted\")\n",
        "plt.ylabel(\"Truth\")\n",
        "plt.show()"
      ],
      "metadata": {
        "id": "JkO4qdqUVdTs",
        "colab": {
          "base_uri": "https://localhost:8080/",
          "height": 242
        },
        "outputId": "f9a19f01-79d5-475b-ae7a-c79c050ff068"
      },
      "execution_count": 161,
      "outputs": [
        {
          "output_type": "display_data",
          "data": {
            "text/plain": [
              "<Figure size 288x216 with 2 Axes>"
            ],
            "image/png": "[encoded data removed]"
          },
          "metadata": {
            "needs_background": "light"
          }
        }
      ]
    },
    {
      "cell_type": "markdown",
      "source": [
        "Here we it says, **227 customers churned** and the Random forest model predicted that they would churn and **73 customers stayed** when the model predicted that they would churn.\n",
        "\n",
        "The model also predicted 9**62 customers would stay** and they stayed and **147 customers churned** when the model predicted they would stay."
      ],
      "metadata": {
        "id": "Yi-e91RFmkmL"
      }
    },
    {
      "cell_type": "markdown",
      "source": [
        "### ADA BOOSTING CLASSIFIER"
      ],
      "metadata": {
        "id": "oBYl0O6xD1N4"
      }
    },
    {
      "cell_type": "code",
      "source": [
        "#Ada_Boost Classifier\n",
        "a_model = AdaBoostClassifier(random_state=100)\n",
        "a_model.fit(X_train,Y_train)\n",
        "a_preds = a_model.predict(X_test)\n",
        "accuracy_a = a_model.score(X_test,Y_test)\n",
        "print(\"AdaBoost Classifier accuracy;\", accuracy_a)\n",
        "a_auc = roc_auc_score(Y_test, a_preds)\n",
        "print(\"AdaBoost roc_auc_score is :\",a_auc)"
      ],
      "metadata": {
        "id": "xKEtBtM6VcTr",
        "colab": {
          "base_uri": "https://localhost:8080/"
        },
        "outputId": "58f81597-3c53-40b6-ff36-b925dc51b053"
      },
      "execution_count": 162,
      "outputs": [
        {
          "output_type": "stream",
          "name": "stdout",
          "text": [
            "AdaBoost Classifier accuracy; 0.8424414478353442\n",
            "AdaBoost roc_auc_score is : 0.7885892169779638\n"
          ]
        }
      ]
    },
    {
      "cell_type": "code",
      "source": [
        "print(classification_report(Y_test, a_preds))"
      ],
      "metadata": {
        "colab": {
          "base_uri": "https://localhost:8080/"
        },
        "id": "HsUrltGPJvvq",
        "outputId": "7dd2dda8-053e-4f22-896e-e2211acea6a4"
      },
      "execution_count": 163,
      "outputs": [
        {
          "output_type": "stream",
          "name": "stdout",
          "text": [
            "              precision    recall  f1-score   support\n",
            "\n",
            "           0       0.72      0.67      0.69       374\n",
            "           1       0.88      0.90      0.89      1035\n",
            "\n",
            "    accuracy                           0.84      1409\n",
            "   macro avg       0.80      0.79      0.79      1409\n",
            "weighted avg       0.84      0.84      0.84      1409\n",
            "\n"
          ]
        }
      ]
    },
    {
      "cell_type": "code",
      "source": [
        "plt.figure(figsize=(4,3))\n",
        "sns.heatmap(confusion_matrix(Y_test, a_preds),\n",
        "                annot=True,fmt = \"d\",linecolor=\"k\",linewidths=3)\n",
        "    \n",
        "plt.title(\"AdaBoost Classifier Confusion Matrix\",fontsize=14)\n",
        "plt.show()"
      ],
      "metadata": {
        "colab": {
          "base_uri": "https://localhost:8080/",
          "height": 228
        },
        "id": "tTOveEYcJvY9",
        "outputId": "e1a0f13f-9f7a-4b89-ba81-634abfbabfd0"
      },
      "execution_count": 164,
      "outputs": [
        {
          "output_type": "display_data",
          "data": {
            "text/plain": [
              "<Figure size 288x216 with 2 Axes>"
            ],
            "image/png": "[encoded data removed]"
          },
          "metadata": {
            "needs_background": "light"
          }
        }
      ]
    },
    {
      "cell_type": "markdown",
      "source": [
        "### GRADIENT BOOSTING CLASSIFIER"
      ],
      "metadata": {
        "id": "Ar3znOYpDuVW"
      }
    },
    {
      "cell_type": "code",
      "source": [
        "#Gradient Boosting Classifier\n",
        "gb_model = GradientBoostingClassifier(random_state=150)\n",
        "gb_model.fit(X_train, Y_train)\n",
        "gb_pred = gb_model.predict(X_test)\n",
        "accuracy_gb = gb_model.score(X_test,Y_test)\n",
        "print(\"Gradient Boosting Classifier\", accuracy_gb)\n",
        "gb_auc = roc_auc_score(Y_test, gb_pred)\n",
        "print(\"Gradient Boosting roc_auc_score is :\",gb_auc)"
      ],
      "metadata": {
        "colab": {
          "base_uri": "https://localhost:8080/"
        },
        "id": "4pLc8GRuJvK3",
        "outputId": "69c4d70e-4ef8-4963-a031-6f2feae2bcc6"
      },
      "execution_count": 165,
      "outputs": [
        {
          "output_type": "stream",
          "name": "stdout",
          "text": [
            "Gradient Boosting Classifier 0.8566359119943222\n",
            "Gradient Boosting roc_auc_score is : 0.8016662791598853\n"
          ]
        }
      ]
    },
    {
      "cell_type": "code",
      "source": [
        "print(classification_report(Y_test, gb_pred))"
      ],
      "metadata": {
        "colab": {
          "base_uri": "https://localhost:8080/"
        },
        "id": "BkGwqanZLMkT",
        "outputId": "3b05921c-7e51-4048-e10e-8695b2272fb2"
      },
      "execution_count": 166,
      "outputs": [
        {
          "output_type": "stream",
          "name": "stdout",
          "text": [
            "              precision    recall  f1-score   support\n",
            "\n",
            "           0       0.75      0.68      0.72       374\n",
            "           1       0.89      0.92      0.90      1035\n",
            "\n",
            "    accuracy                           0.86      1409\n",
            "   macro avg       0.82      0.80      0.81      1409\n",
            "weighted avg       0.85      0.86      0.85      1409\n",
            "\n"
          ]
        }
      ]
    },
    {
      "cell_type": "code",
      "source": [
        "plt.figure(figsize=(4,3))\n",
        "sns.heatmap(confusion_matrix(Y_test, gb_pred),\n",
        "                annot=True,fmt = \"d\",linecolor=\"k\",linewidths=3)\n",
        "    \n",
        "plt.title(\"Gradient Boosting Classifier Confusion Matrix\",fontsize=14)\n",
        "plt.show()"
      ],
      "metadata": {
        "colab": {
          "base_uri": "https://localhost:8080/",
          "height": 228
        },
        "id": "QmRCAnm2LMSU",
        "outputId": "1f642057-97ef-45b4-a80d-6b6b589e9a72"
      },
      "execution_count": 167,
      "outputs": [
        {
          "output_type": "display_data",
          "data": {
            "text/plain": [
              "<Figure size 288x216 with 2 Axes>"
            ],
            "image/png": "[encoded data removed]"
          },
          "metadata": {
            "needs_background": "light"
          }
        }
      ]
    },
    {
      "cell_type": "markdown",
      "source": [
        "#### ACCURACY COMPARISON"
      ],
      "metadata": {
        "id": "I1NVIwdGDX1F"
      }
    },
    {
      "cell_type": "code",
      "source": [
        "# Dataframe to hold the results\n",
        "model_comparison = pd.DataFrame({'model': ['lr_model', 'dt_model', 'svc_model',\n",
        "                                           'knn_model', 'model_rf',\n",
        "                                            'gb_model', 'a_model'],\n",
        "                                 'Accuracy': [accuracy_lr,accuracy_dt,accuracy_svc,accuracy_knn,accuracy_rf,accuracy_gb,accuracy_a]})\n",
        "\n",
        "# Horizontal bar chart of train accuracy\n",
        "model_comparison.sort_values('Accuracy').plot(x = 'model', y = 'Accuracy', \n",
        "                                kind = 'barh',color = 'Yellow', edgecolor = 'black')\n",
        "# Plot formatting\n",
        "plt.ylabel('Model'); plt.yticks(size = 10); plt.xlabel('Accuracy Score'); plt.xticks(size = 10)\n",
        "plt.title('Model Comparison on Train Accuracy Score', size = 14);"
      ],
      "metadata": {
        "colab": {
          "base_uri": "https://localhost:8080/",
          "height": 296
        },
        "id": "DT3uTPvtOdRx",
        "outputId": "dcf63617-f12f-44ed-f213-4fe8f85cbdce"
      },
      "execution_count": 168,
      "outputs": [
        {
          "output_type": "display_data",
          "data": {
            "text/plain": [
              "<Figure size 432x288 with 1 Axes>"
            ],
            "image/png": "[encoded data removed]"
          },
          "metadata": {
            "needs_background": "light"
          }
        }
      ]
    },
    {
      "cell_type": "markdown",
      "source": [
        "From the bar graph above, we can see that the Gradient Boosting classifier has the best accuracy performance on the train data. However since the data has a class imbalance in the customer churn variable, we shall use the roc_auc metric to select the best model for evaluation performance.\n",
        "\n",
        "\n",
        "\n",
        "\n",
        "\n",
        "We are going to use a bar graph below to visualise the model that produced the highest roc_auc, which will become the model that we shall tune for our classification problem."
      ],
      "metadata": {
        "id": "zv2y_JkuZ5TG"
      }
    },
    {
      "cell_type": "markdown",
      "source": [
        "#### ROC_AUC COMPARISON"
      ],
      "metadata": {
        "id": "OI-7oECxDLVn"
      }
    },
    {
      "cell_type": "code",
      "source": [
        "ROC_AUC_Comparison = pd.DataFrame({'model': ['lr', 'dt', 'svc',\n",
        "                                           'knn', 'rf',\n",
        "                                            'gb', 'a'],\n",
        "                                 'ROC AUC': [lr_auc,dt_auc,svc_auc,knn_auc,rf_auc,gb_auc,a_auc]})\n",
        "\n",
        "# Horizontal bar chart of train accuracy\n",
        "ROC_AUC_Comparison.sort_values('ROC AUC').plot(x = 'model', y = 'ROC AUC', \n",
        "                                kind = 'barh',color = 'Blue', edgecolor = 'black')\n",
        "# Plot formatting\n",
        "plt.ylabel('Model'); plt.yticks(size = 10); plt.xlabel('ROC AUC Score'); plt.xticks(size = 10)\n",
        "plt.title('Model Comparison on Train ROC AUC Score', size = 14);"
      ],
      "metadata": {
        "colab": {
          "base_uri": "https://localhost:8080/",
          "height": 296
        },
        "id": "peCa7mUIYQv2",
        "outputId": "58df7048-e420-4c6d-85cc-7c3530fa939e"
      },
      "execution_count": 169,
      "outputs": [
        {
          "output_type": "display_data",
          "data": {
            "text/plain": [
              "<Figure size 432x288 with 1 Axes>"
            ],
            "image/png": "[encoded data removed]"
          },
          "metadata": {
            "needs_background": "light"
          }
        }
      ]
    },
    {
      "cell_type": "markdown",
      "source": [
        "The best performing model is **Gradient Boosting classifiers**\n",
        "\n",
        "Lets consider this model and furthure tune it them to find out how better it performs. We shall use grid and random search to find optimum parameters"
      ],
      "metadata": {
        "id": "nD1RK9RYbwxo"
      }
    },
    {
      "cell_type": "markdown",
      "source": [
        "### MODEL TUNING"
      ],
      "metadata": {
        "id": "EouqMFLwFYzP"
      }
    },
    {
      "cell_type": "code",
      "source": [
        "GBmodel = GradientBoostingClassifier(random_state=1)\n",
        "# parameter grid\n",
        "\n",
        "parameters = {\n",
        "    \"loss\":[\"deviance\"],\n",
        "    \"learning_rate\": [0.01, 0.5, 0.1, 0.2],\n",
        "    \"min_samples_leaf\": [2,3,4,6],\n",
        "    \"max_depth\":[3,5,7,10,15],\n",
        "    \"max_features\":[\"log2\",\"sqrt\"],\n",
        "     'subsample': [0.6,0.7,0.8],\n",
        "    \"n_estimators\":[300,400,500,800,1000]\n",
        "     }"
      ],
      "metadata": {
        "id": "zWB8vWSDfpYe"
      },
      "execution_count": 170,
      "outputs": []
    },
    {
      "cell_type": "code",
      "source": [
        "from sklearn.model_selection import RandomizedSearchCV\n",
        "random_cv = RandomizedSearchCV(estimator=GBmodel,\n",
        "                               param_distributions=parameters,\n",
        "                               scoring='roc_auc',\n",
        "                               cv=5, n_iter=30, \n",
        "                               n_jobs = 4, verbose = 1,\n",
        "                               random_state=30)"
      ],
      "metadata": {
        "id": "t0nYEzislEJd"
      },
      "execution_count": 171,
      "outputs": []
    },
    {
      "cell_type": "code",
      "source": [
        "random_cv.fit(X_train,Y_train)"
      ],
      "metadata": {
        "colab": {
          "base_uri": "https://localhost:8080/"
        },
        "id": "YW5dPaenlCpy",
        "outputId": "9bc3479b-6847-4b5d-f6b8-3afe962aee4a"
      },
      "execution_count": 172,
      "outputs": [
        {
          "output_type": "stream",
          "name": "stdout",
          "text": [
            "Fitting 5 folds for each of 30 candidates, totalling 150 fits\n"
          ]
        },
        {
          "output_type": "execute_result",
          "data": {
            "text/plain": [
              "RandomizedSearchCV(cv=5, estimator=GradientBoostingClassifier(random_state=1),\n",
              "                   n_iter=30, n_jobs=4,\n",
              "                   param_distributions={'learning_rate': [0.01, 0.5, 0.1, 0.2],\n",
              "                                        'loss': ['deviance'],\n",
              "                                        'max_depth': [3, 5, 7, 10, 15],\n",
              "                                        'max_features': ['log2', 'sqrt'],\n",
              "                                        'min_samples_leaf': [2, 3, 4, 6],\n",
              "                                        'n_estimators': [300, 400, 500, 800,\n",
              "                                                         1000],\n",
              "                                        'subsample': [0.6, 0.7, 0.8]},\n",
              "                   random_state=30, scoring='roc_auc', verbose=1)"
            ]
          },
          "metadata": {},
          "execution_count": 172
        }
      ]
    },
    {
      "cell_type": "code",
      "source": [
        "random_cv.best_params_"
      ],
      "metadata": {
        "colab": {
          "base_uri": "https://localhost:8080/"
        },
        "id": "WDOUigxIlCOd",
        "outputId": "8e84be78-1b56-4c42-f10a-71339fd62076"
      },
      "execution_count": 173,
      "outputs": [
        {
          "output_type": "execute_result",
          "data": {
            "text/plain": [
              "{'learning_rate': 0.01,\n",
              " 'loss': 'deviance',\n",
              " 'max_depth': 7,\n",
              " 'max_features': 'log2',\n",
              " 'min_samples_leaf': 2,\n",
              " 'n_estimators': 800,\n",
              " 'subsample': 0.6}"
            ]
          },
          "metadata": {},
          "execution_count": 173
        }
      ]
    },
    {
      "cell_type": "code",
      "source": [
        "random_cv.best_score_\n",
        "print('New Gradient Boosting Accuracy Score is ', random_cv.best_score_)"
      ],
      "metadata": {
        "colab": {
          "base_uri": "https://localhost:8080/"
        },
        "id": "y9LnkXeilB45",
        "outputId": "27c4ebba-7678-4e70-d7fb-20c2d9f700e7"
      },
      "execution_count": 174,
      "outputs": [
        {
          "output_type": "stream",
          "name": "stdout",
          "text": [
            "New Gradient Boosting Accuracy Score is  0.9067796216784864\n"
          ]
        }
      ]
    },
    {
      "cell_type": "code",
      "source": [
        "#Retrainig our model with grid search to optimize it's performance by varying the estimaators\n",
        "from sklearn.model_selection import GridSearchCV\n",
        "param_grid = {'n_estimators': [200,300,400,500 ],\"max_features\":[\"log2\",\"sqrt\"]}\n",
        "GBmodel =  GradientBoostingClassifier(max_depth=3,\n",
        "                                   loss = 'deviance',\n",
        "                                   subsample=0.6,\n",
        "                                   learning_rate=0.01,\n",
        "                                   min_samples_leaf = 6,\n",
        "                                  random_state = 123)\n",
        "grid_clf =GridSearchCV(GradientBoostingClassifier(random_state=1), \n",
        "                   param_grid,scoring='roc_auc',cv=5, n_jobs=4)"
      ],
      "metadata": {
        "id": "SZ9A5MmnlBoe"
      },
      "execution_count": 175,
      "outputs": []
    },
    {
      "cell_type": "code",
      "source": [
        "grid_clf.fit(X_train,Y_train)"
      ],
      "metadata": {
        "colab": {
          "base_uri": "https://localhost:8080/"
        },
        "id": "C_ny8mhhlBL9",
        "outputId": "2b8786ba-3384-40c4-a176-d74670c27a48"
      },
      "execution_count": 176,
      "outputs": [
        {
          "output_type": "execute_result",
          "data": {
            "text/plain": [
              "GridSearchCV(cv=5, estimator=GradientBoostingClassifier(random_state=1),\n",
              "             n_jobs=4,\n",
              "             param_grid={'max_features': ['log2', 'sqrt'],\n",
              "                         'n_estimators': [200, 300, 400, 500]},\n",
              "             scoring='roc_auc')"
            ]
          },
          "metadata": {},
          "execution_count": 176
        }
      ]
    },
    {
      "cell_type": "code",
      "source": [
        "grid_clf.best_estimator_"
      ],
      "metadata": {
        "colab": {
          "base_uri": "https://localhost:8080/"
        },
        "id": "8qANY9c7UFUW",
        "outputId": "79a1cb2d-90c9-473f-855d-e0be061ddbde"
      },
      "execution_count": 179,
      "outputs": [
        {
          "output_type": "execute_result",
          "data": {
            "text/plain": [
              "GradientBoostingClassifier(max_features='log2', n_estimators=300,\n",
              "                           random_state=1)"
            ]
          },
          "metadata": {},
          "execution_count": 179
        }
      ]
    },
    {
      "cell_type": "code",
      "source": [
        "grid_clf.best_score_"
      ],
      "metadata": {
        "colab": {
          "base_uri": "https://localhost:8080/"
        },
        "id": "PISUq1n2UQQ4",
        "outputId": "6191c225-9073-4cb1-f69c-dd1a9809ee3d"
      },
      "execution_count": 180,
      "outputs": [
        {
          "output_type": "execute_result",
          "data": {
            "text/plain": [
              "0.9090290433947216"
            ]
          },
          "metadata": {},
          "execution_count": 180
        }
      ]
    },
    {
      "cell_type": "markdown",
      "source": [
        "Initial Gradient Boosting classifier with default hyperparameter values reached 85% accuracy on the test. Using random search we were able to tune selected hyperparameters and increased accuracy to 90.6%. Next, we did the samenjob using grid search and we increased accuracy to 90.9%\n",
        "\n"
      ],
      "metadata": {
        "id": "0KILZOLKq72l"
      }
    },
    {
      "cell_type": "code",
      "source": [
        "final_GBmodel=grid_clf.best_estimator_\n",
        "GBC_pred=final_GBmodel.predict_proba(X_test)[:,1] #predict probabilities for positive class\n",
        "GBC_pred = np.where(GBC_pred > 0.5, 1,0) #threshold the probabilities to give class predictions\n",
        "print(classification_report(Y_test,GBC_pred))"
      ],
      "metadata": {
        "colab": {
          "base_uri": "https://localhost:8080/"
        },
        "id": "6xidvmMrUYLL",
        "outputId": "328a8e64-caef-47cb-a6fd-8dba60433fe1"
      },
      "execution_count": 181,
      "outputs": [
        {
          "output_type": "stream",
          "name": "stdout",
          "text": [
            "              precision    recall  f1-score   support\n",
            "\n",
            "           0       0.75      0.68      0.71       374\n",
            "           1       0.89      0.92      0.90      1035\n",
            "\n",
            "    accuracy                           0.85      1409\n",
            "   macro avg       0.82      0.80      0.81      1409\n",
            "weighted avg       0.85      0.85      0.85      1409\n",
            "\n"
          ]
        }
      ]
    },
    {
      "cell_type": "code",
      "source": [
        "plt.figure(figsize=(4,3))\n",
        "sns.heatmap(confusion_matrix(Y_test, GBC_pred),\n",
        "                annot=True,fmt = \"d\",linecolor=\"k\",linewidths=3)\n",
        "    \n",
        "plt.title(\"FINAL MODEL CONFUSION MATRIX\",fontsize=14)\n",
        "plt.xlabel(\"Predicted\")\n",
        "plt.ylabel(\"Truth\")\n",
        "plt.show()"
      ],
      "metadata": {
        "colab": {
          "base_uri": "https://localhost:8080/",
          "height": 242
        },
        "id": "HZoXsvuSUgBg",
        "outputId": "43351734-682c-4d37-c687-587e9fbfdb93"
      },
      "execution_count": 182,
      "outputs": [
        {
          "output_type": "display_data",
          "data": {
            "text/plain": [
              "<Figure size 288x216 with 2 Axes>"
            ],
            "image/png": "[encoded data removed]"
          },
          "metadata": {
            "needs_background": "light"
          }
        }
      ]
    },
    {
      "cell_type": "markdown",
      "source": [
        "From the heatmap above, we can see that the model classified 120 customers as churned when in truth they stayed with the telcom and classified 86 as stayed when in truth they actually churned the telecom."
      ],
      "metadata": {
        "id": "uhK23PLT4UVr"
      }
    },
    {
      "cell_type": "markdown",
      "source": [
        "#### Features that contribute the most to churn"
      ],
      "metadata": {
        "id": "_jCJ3lI-FluF"
      }
    },
    {
      "cell_type": "code",
      "source": [
        "! pip install eli5"
      ],
      "metadata": {
        "colab": {
          "base_uri": "https://localhost:8080/"
        },
        "id": "jIbXNH084ToT",
        "outputId": "a0442b70-0cce-4595-f87c-1f0ac95bdbc0"
      },
      "execution_count": 177,
      "outputs": [
        {
          "output_type": "stream",
          "name": "stdout",
          "text": [
            "Looking in indexes: https://pypi.org/simple, https://us-python.pkg.dev/colab-wheels/public/simple/\n",
            "Requirement already satisfied: eli5 in /usr/local/lib/python3.7/dist-packages (0.13.0)\n",
            "Requirement already satisfied: graphviz in /usr/local/lib/python3.7/dist-packages (from eli5) (0.10.1)\n",
            "Requirement already satisfied: scikit-learn>=0.20 in /usr/local/lib/python3.7/dist-packages (from eli5) (1.0.2)\n",
            "Requirement already satisfied: jinja2>=3.0.0 in /usr/local/lib/python3.7/dist-packages (from eli5) (3.1.2)\n",
            "Requirement already satisfied: numpy>=1.9.0 in /usr/local/lib/python3.7/dist-packages (from eli5) (1.21.6)\n",
            "Requirement already satisfied: scipy in /usr/local/lib/python3.7/dist-packages (from eli5) (1.7.3)\n",
            "Requirement already satisfied: tabulate>=0.7.7 in /usr/local/lib/python3.7/dist-packages (from eli5) (0.8.10)\n",
            "Requirement already satisfied: attrs>17.1.0 in /usr/local/lib/python3.7/dist-packages (from eli5) (21.4.0)\n",
            "Requirement already satisfied: six in /usr/local/lib/python3.7/dist-packages (from eli5) (1.15.0)\n",
            "Requirement already satisfied: MarkupSafe>=2.0 in /usr/local/lib/python3.7/dist-packages (from jinja2>=3.0.0->eli5) (2.0.1)\n",
            "Requirement already satisfied: joblib>=0.11 in /usr/local/lib/python3.7/dist-packages (from scikit-learn>=0.20->eli5) (1.1.0)\n",
            "Requirement already satisfied: threadpoolctl>=2.0.0 in /usr/local/lib/python3.7/dist-packages (from scikit-learn>=0.20->eli5) (3.1.0)\n"
          ]
        }
      ]
    },
    {
      "cell_type": "code",
      "source": [
        "import eli5\n",
        "from eli5.sklearn import PermutationImportance\n",
        "\n",
        "perm = PermutationImportance(final_GBmodel, random_state=1).fit(X_test, Y_test)\n",
        "eli5.show_weights(perm, feature_names = X_test.columns.tolist())"
      ],
      "metadata": {
        "colab": {
          "base_uri": "https://localhost:8080/",
          "height": 399
        },
        "id": "Z-gE8AiQ4Tbu",
        "outputId": "20ed4224-79df-4be7-a59d-d0b908017210"
      },
      "execution_count": 178,
      "outputs": [
        {
          "output_type": "execute_result",
          "data": {
            "text/plain": [
              "<IPython.core.display.HTML object>"
            ],
            "text/html": [
              "\n",
              "    <style>\n",
              "    table.eli5-weights tr:hover {\n",
              "        filter: brightness(85%);\n",
              "    }\n",
              "</style>\n",
              "\n",
              "\n",
              "\n",
              "    \n",
              "\n",
              "    \n",
              "\n",
              "    \n",
              "\n",
              "    \n",
              "\n",
              "    \n",
              "\n",
              "    \n",
              "\n",
              "\n",
              "    \n",
              "\n",
              "    \n",
              "\n",
              "    \n",
              "\n",
              "    \n",
              "\n",
              "    \n",
              "\n",
              "    \n",
              "\n",
              "\n",
              "    \n",
              "\n",
              "    \n",
              "\n",
              "    \n",
              "\n",
              "    \n",
              "\n",
              "    \n",
              "        <table class=\"eli5-weights eli5-feature-importances\" style=\"border-collapse: collapse; border: none; margin-top: 0em; table-layout: auto;\">\n",
              "    <thead>\n",
              "    <tr style=\"border: none;\">\n",
              "        <th style=\"padding: 0 1em 0 0.5em; text-align: right; border: none;\">Weight</th>\n",
              "        <th style=\"padding: 0 0.5em 0 0.5em; text-align: left; border: none;\">Feature</th>\n",
              "    </tr>\n",
              "    </thead>\n",
              "    <tbody>\n",
              "    \n",
              "        <tr style=\"background-color: hsl(120, 100.00%, 80.00%); border: none;\">\n",
              "            <td style=\"padding: 0 1em 0 0.5em; text-align: right; border: none;\">\n",
              "                0.0573\n",
              "                \n",
              "                    &plusmn; 0.0150\n",
              "                \n",
              "            </td>\n",
              "            <td style=\"padding: 0 0.5em 0 0.5em; text-align: left; border: none;\">\n",
              "                Contract\n",
              "            </td>\n",
              "        </tr>\n",
              "    \n",
              "        <tr style=\"background-color: hsl(120, 100.00%, 84.96%); border: none;\">\n",
              "            <td style=\"padding: 0 1em 0 0.5em; text-align: right; border: none;\">\n",
              "                0.0382\n",
              "                \n",
              "                    &plusmn; 0.0080\n",
              "                \n",
              "            </td>\n",
              "            <td style=\"padding: 0 0.5em 0 0.5em; text-align: left; border: none;\">\n",
              "                Number of Referrals\n",
              "            </td>\n",
              "        </tr>\n",
              "    \n",
              "        <tr style=\"background-color: hsl(120, 100.00%, 89.82%); border: none;\">\n",
              "            <td style=\"padding: 0 1em 0 0.5em; text-align: right; border: none;\">\n",
              "                0.0219\n",
              "                \n",
              "                    &plusmn; 0.0086\n",
              "                \n",
              "            </td>\n",
              "            <td style=\"padding: 0 0.5em 0 0.5em; text-align: left; border: none;\">\n",
              "                Monthly Charge\n",
              "            </td>\n",
              "        </tr>\n",
              "    \n",
              "        <tr style=\"background-color: hsl(120, 100.00%, 91.80%); border: none;\">\n",
              "            <td style=\"padding: 0 1em 0 0.5em; text-align: right; border: none;\">\n",
              "                0.0160\n",
              "                \n",
              "                    &plusmn; 0.0079\n",
              "                \n",
              "            </td>\n",
              "            <td style=\"padding: 0 0.5em 0 0.5em; text-align: left; border: none;\">\n",
              "                Age\n",
              "            </td>\n",
              "        </tr>\n",
              "    \n",
              "        <tr style=\"background-color: hsl(120, 100.00%, 92.42%); border: none;\">\n",
              "            <td style=\"padding: 0 1em 0 0.5em; text-align: right; border: none;\">\n",
              "                0.0143\n",
              "                \n",
              "                    &plusmn; 0.0107\n",
              "                \n",
              "            </td>\n",
              "            <td style=\"padding: 0 0.5em 0 0.5em; text-align: left; border: none;\">\n",
              "                Number of Dependents\n",
              "            </td>\n",
              "        </tr>\n",
              "    \n",
              "        <tr style=\"background-color: hsl(120, 100.00%, 93.17%); border: none;\">\n",
              "            <td style=\"padding: 0 1em 0 0.5em; text-align: right; border: none;\">\n",
              "                0.0123\n",
              "                \n",
              "                    &plusmn; 0.0091\n",
              "                \n",
              "            </td>\n",
              "            <td style=\"padding: 0 0.5em 0 0.5em; text-align: left; border: none;\">\n",
              "                Tenure in Months\n",
              "            </td>\n",
              "        </tr>\n",
              "    \n",
              "        <tr style=\"background-color: hsl(120, 100.00%, 94.20%); border: none;\">\n",
              "            <td style=\"padding: 0 1em 0 0.5em; text-align: right; border: none;\">\n",
              "                0.0098\n",
              "                \n",
              "                    &plusmn; 0.0077\n",
              "                \n",
              "            </td>\n",
              "            <td style=\"padding: 0 0.5em 0 0.5em; text-align: left; border: none;\">\n",
              "                Streaming Music\n",
              "            </td>\n",
              "        </tr>\n",
              "    \n",
              "        <tr style=\"background-color: hsl(120, 100.00%, 95.30%); border: none;\">\n",
              "            <td style=\"padding: 0 1em 0 0.5em; text-align: right; border: none;\">\n",
              "                0.0072\n",
              "                \n",
              "                    &plusmn; 0.0096\n",
              "                \n",
              "            </td>\n",
              "            <td style=\"padding: 0 0.5em 0 0.5em; text-align: left; border: none;\">\n",
              "                Married\n",
              "            </td>\n",
              "        </tr>\n",
              "    \n",
              "        <tr style=\"background-color: hsl(120, 100.00%, 95.97%); border: none;\">\n",
              "            <td style=\"padding: 0 1em 0 0.5em; text-align: right; border: none;\">\n",
              "                0.0058\n",
              "                \n",
              "                    &plusmn; 0.0064\n",
              "                \n",
              "            </td>\n",
              "            <td style=\"padding: 0 0.5em 0 0.5em; text-align: left; border: none;\">\n",
              "                Online Security\n",
              "            </td>\n",
              "        </tr>\n",
              "    \n",
              "        <tr style=\"background-color: hsl(120, 100.00%, 96.39%); border: none;\">\n",
              "            <td style=\"padding: 0 1em 0 0.5em; text-align: right; border: none;\">\n",
              "                0.0050\n",
              "                \n",
              "                    &plusmn; 0.0052\n",
              "                \n",
              "            </td>\n",
              "            <td style=\"padding: 0 0.5em 0 0.5em; text-align: left; border: none;\">\n",
              "                Payment Method\n",
              "            </td>\n",
              "        </tr>\n",
              "    \n",
              "        <tr style=\"background-color: hsl(120, 100.00%, 96.39%); border: none;\">\n",
              "            <td style=\"padding: 0 1em 0 0.5em; text-align: right; border: none;\">\n",
              "                0.0050\n",
              "                \n",
              "                    &plusmn; 0.0039\n",
              "                \n",
              "            </td>\n",
              "            <td style=\"padding: 0 0.5em 0 0.5em; text-align: left; border: none;\">\n",
              "                Internet Service\n",
              "            </td>\n",
              "        </tr>\n",
              "    \n",
              "        <tr style=\"background-color: hsl(120, 100.00%, 96.46%); border: none;\">\n",
              "            <td style=\"padding: 0 1em 0 0.5em; text-align: right; border: none;\">\n",
              "                0.0048\n",
              "                \n",
              "                    &plusmn; 0.0041\n",
              "                \n",
              "            </td>\n",
              "            <td style=\"padding: 0 0.5em 0 0.5em; text-align: left; border: none;\">\n",
              "                Streaming Movies\n",
              "            </td>\n",
              "        </tr>\n",
              "    \n",
              "        <tr style=\"background-color: hsl(120, 100.00%, 97.56%); border: none;\">\n",
              "            <td style=\"padding: 0 1em 0 0.5em; text-align: right; border: none;\">\n",
              "                0.0028\n",
              "                \n",
              "                    &plusmn; 0.0025\n",
              "                \n",
              "            </td>\n",
              "            <td style=\"padding: 0 0.5em 0 0.5em; text-align: left; border: none;\">\n",
              "                Multiple Lines\n",
              "            </td>\n",
              "        </tr>\n",
              "    \n",
              "        <tr style=\"background-color: hsl(120, 100.00%, 97.56%); border: none;\">\n",
              "            <td style=\"padding: 0 1em 0 0.5em; text-align: right; border: none;\">\n",
              "                0.0028\n",
              "                \n",
              "                    &plusmn; 0.0077\n",
              "                \n",
              "            </td>\n",
              "            <td style=\"padding: 0 0.5em 0 0.5em; text-align: left; border: none;\">\n",
              "                Premium Tech Support\n",
              "            </td>\n",
              "        </tr>\n",
              "    \n",
              "        <tr style=\"background-color: hsl(120, 100.00%, 97.65%); border: none;\">\n",
              "            <td style=\"padding: 0 1em 0 0.5em; text-align: right; border: none;\">\n",
              "                0.0027\n",
              "                \n",
              "                    &plusmn; 0.0088\n",
              "                \n",
              "            </td>\n",
              "            <td style=\"padding: 0 0.5em 0 0.5em; text-align: left; border: none;\">\n",
              "                Total Charges\n",
              "            </td>\n",
              "        </tr>\n",
              "    \n",
              "        <tr style=\"background-color: hsl(120, 100.00%, 98.29%); border: none;\">\n",
              "            <td style=\"padding: 0 1em 0 0.5em; text-align: right; border: none;\">\n",
              "                0.0017\n",
              "                \n",
              "                    &plusmn; 0.0073\n",
              "                \n",
              "            </td>\n",
              "            <td style=\"padding: 0 0.5em 0 0.5em; text-align: left; border: none;\">\n",
              "                Paperless Billing\n",
              "            </td>\n",
              "        </tr>\n",
              "    \n",
              "        <tr style=\"background-color: hsl(120, 100.00%, 98.29%); border: none;\">\n",
              "            <td style=\"padding: 0 1em 0 0.5em; text-align: right; border: none;\">\n",
              "                0.0017\n",
              "                \n",
              "                    &plusmn; 0.0014\n",
              "                \n",
              "            </td>\n",
              "            <td style=\"padding: 0 0.5em 0 0.5em; text-align: left; border: none;\">\n",
              "                Device Protection Plan\n",
              "            </td>\n",
              "        </tr>\n",
              "    \n",
              "        <tr style=\"background-color: hsl(120, 100.00%, 99.21%); border: none;\">\n",
              "            <td style=\"padding: 0 1em 0 0.5em; text-align: right; border: none;\">\n",
              "                0.0006\n",
              "                \n",
              "                    &plusmn; 0.0021\n",
              "                \n",
              "            </td>\n",
              "            <td style=\"padding: 0 0.5em 0 0.5em; text-align: left; border: none;\">\n",
              "                Gender\n",
              "            </td>\n",
              "        </tr>\n",
              "    \n",
              "        <tr style=\"background-color: hsl(120, 100.00%, 99.51%); border: none;\">\n",
              "            <td style=\"padding: 0 1em 0 0.5em; text-align: right; border: none;\">\n",
              "                0.0003\n",
              "                \n",
              "                    &plusmn; 0.0007\n",
              "                \n",
              "            </td>\n",
              "            <td style=\"padding: 0 0.5em 0 0.5em; text-align: left; border: none;\">\n",
              "                Unlimited Data\n",
              "            </td>\n",
              "        </tr>\n",
              "    \n",
              "        <tr style=\"background-color: hsl(120, 100.00%, 99.70%); border: none;\">\n",
              "            <td style=\"padding: 0 1em 0 0.5em; text-align: right; border: none;\">\n",
              "                0.0001\n",
              "                \n",
              "                    &plusmn; 0.0017\n",
              "                \n",
              "            </td>\n",
              "            <td style=\"padding: 0 0.5em 0 0.5em; text-align: left; border: none;\">\n",
              "                Phone Service\n",
              "            </td>\n",
              "        </tr>\n",
              "    \n",
              "    \n",
              "        \n",
              "            <tr style=\"background-color: hsl(120, 100.00%, 99.70%); border: none;\">\n",
              "                <td colspan=\"2\" style=\"padding: 0 0.5em 0 0.5em; text-align: center; border: none; white-space: nowrap;\">\n",
              "                    <i>&hellip; 3 more &hellip;</i>\n",
              "                </td>\n",
              "            </tr>\n",
              "        \n",
              "    \n",
              "    </tbody>\n",
              "</table>\n",
              "    \n",
              "\n",
              "    \n",
              "\n",
              "\n",
              "    \n",
              "\n",
              "    \n",
              "\n",
              "    \n",
              "\n",
              "    \n",
              "\n",
              "    \n",
              "\n",
              "    \n",
              "\n",
              "\n",
              "\n"
            ]
          },
          "metadata": {},
          "execution_count": 178
        }
      ]
    },
    {
      "cell_type": "markdown",
      "source": [
        "We can see that Contract, Number of referrals and Monthly Charges are the three most important features that this model considered in classifying which customers will churn or not."
      ],
      "metadata": {
        "id": "mm7l7gOjB1S1"
      }
    },
    {
      "cell_type": "markdown",
      "source": [
        "Customer churn is definitely bad to a firm’s profitability. Various strategies can be implemented to eliminate customer churn. The best way to avoid customer churn is for a company to truly know its customers. This includes identifying customers who are at risk of churning and working to improve their satisfaction. Improving customer service is, of course, at the top of the priority for tackling this issue. Building customer loyalty through relevant experiences and specialized service is another strategy to reduce customer churn. Some firms survey customers who have already churned to understand their reasons for leaving in order to adopt a proactive approach to avoiding future customer churn."
      ],
      "metadata": {
        "id": "m68Il3ZSOWYi"
      }
    },
    {
      "cell_type": "code",
      "source": [
        ""
      ],
      "metadata": {
        "id": "y6lgtC5p4TPD"
      },
      "execution_count": 178,
      "outputs": []
    },
    {
      "cell_type": "markdown",
      "source": [
        "We have been dealing with unbalanced data, we can do the same thing again with balanced and see model performance"
      ],
      "metadata": {
        "id": "-iq6GAr4VrTI"
      }
    }
  ]
}